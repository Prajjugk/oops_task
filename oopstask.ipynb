{
 "cells": [
  {
   "cell_type": "markdown",
   "id": "57abbc5e",
   "metadata": {},
   "source": [
    "Q1, Create a vehicle class with an init method having instance variables as name_of_vehicle, max_speed\n",
    "and average_of_vehicle."
   ]
  },
  {
   "cell_type": "code",
   "execution_count": 1,
   "id": "fc1d2e7c",
   "metadata": {},
   "outputs": [
    {
     "name": "stdout",
     "output_type": "stream",
     "text": [
      "Name of vehicle Innova\n",
      "Max speed  220\n",
      "Average speed  60\n"
     ]
    }
   ],
   "source": [
    "class vehicle():\n",
    "    def __init__(self, name, max_speed , average ):\n",
    "        self.name = name\n",
    "        self.max_speed = max_speed\n",
    "        self.average = average\n",
    "\n",
    "car = vehicle(\"Innova\",220,60)\n",
    "print(\"Name of vehicle\",car.name)\n",
    "print(\"Max speed \",car.max_speed)\n",
    "print(\"Average speed \",car.average)"
   ]
  },
  {
   "cell_type": "code",
   "execution_count": null,
   "id": "6e115a00",
   "metadata": {},
   "outputs": [],
   "source": []
  },
  {
   "cell_type": "markdown",
   "id": "3ceb2bbd",
   "metadata": {},
   "source": [
    "Q2. Create a child class car from the vehicle class created in Que 1, which will inherit the vehicle class.\n",
    "Create a method named seating_capacity which takes capacity as an argument and returns the name of\n",
    "the vehicle and its seating capacity."
   ]
  },
  {
   "cell_type": "code",
   "execution_count": 4,
   "id": "41e00672",
   "metadata": {},
   "outputs": [
    {
     "name": "stdout",
     "output_type": "stream",
     "text": [
      "Innova has a seating capacity of 8 passengers\n"
     ]
    }
   ],
   "source": [
    "class vehicle():\n",
    "    def __init__(self, name, max_speed , average ):\n",
    "        self.name = name\n",
    "        self.max_speed = max_speed\n",
    "        self.average = average\n",
    "        \n",
    "class Car(vehicle):\n",
    "    \n",
    "    def seating_capacity(self,capacity):\n",
    "        return f\"{self.name} has a seating capacity of {capacity} passengers\"\n",
    "    \n",
    "car = Car(\"Innova\",220,60)\n",
    "capacity = 8\n",
    "result = car.seating_capacity(capacity)\n",
    "print(result)\n"
   ]
  },
  {
   "cell_type": "code",
   "execution_count": null,
   "id": "efe05980",
   "metadata": {},
   "outputs": [],
   "source": []
  },
  {
   "cell_type": "markdown",
   "id": "877919be",
   "metadata": {},
   "source": [
    "Q3. What is multiple inheritance? Write a python code to demonstrate multiple inheritance."
   ]
  },
  {
   "cell_type": "markdown",
   "id": "3ff5aec8",
   "metadata": {},
   "source": [
    "\n",
    "Multiple inheritance is a feature in object-oriented programming languages like Python that allows a class to inherit attributes and methods from more than one base class or parent class. "
   ]
  },
  {
   "cell_type": "code",
   "execution_count": 6,
   "id": "48bc6775",
   "metadata": {},
   "outputs": [
    {
     "name": "stdout",
     "output_type": "stream",
     "text": [
      "Method from Parent1\n",
      "Method from Parent2\n"
     ]
    }
   ],
   "source": [
    "class Parent1:\n",
    "    def method1(self):\n",
    "        return \"Method from Parent1\"\n",
    "\n",
    "class Parent2:\n",
    "    def method2(self):\n",
    "        return \"Method from Parent2\"\n",
    "\n",
    "class Child(Parent1, Parent2):\n",
    "    pass\n",
    "\n",
    "\n",
    "child_instance = Child()\n",
    "result1 = child_instance.method1()\n",
    "result2 = child_instance.method2()\n",
    "\n",
    "print(result1)  \n",
    "print(result2)  \n"
   ]
  },
  {
   "cell_type": "code",
   "execution_count": null,
   "id": "b0338ab5",
   "metadata": {},
   "outputs": [],
   "source": []
  },
  {
   "cell_type": "markdown",
   "id": "ddfdbe03",
   "metadata": {},
   "source": [
    "Q4. What are getter and setter in python? Create a class and create a getter and a setter method in this\n",
    "class."
   ]
  },
  {
   "cell_type": "markdown",
   "id": "f1db19a3",
   "metadata": {},
   "source": [
    "In Python, getters and setters are methods used to control access to the attributes (variables) of a class. They allow you to get (retrieve) and set (modify) the values of class attributes in a controlled and consistent way, which can be helpful for encapsulation and data validation."
   ]
  },
  {
   "cell_type": "code",
   "execution_count": 7,
   "id": "7a6c8321",
   "metadata": {},
   "outputs": [
    {
     "name": "stdout",
     "output_type": "stream",
     "text": [
      "Width: 5\n",
      "Width: 8\n",
      "Width must be greater than 0.\n"
     ]
    }
   ],
   "source": [
    "class Rectangle:\n",
    "    def __init__(self, width, height):\n",
    "        self._width = width  \n",
    "        self._height = height  \n",
    "\n",
    "   \n",
    "    def get_width(self):\n",
    "        return self._width\n",
    "\n",
    "  \n",
    "    def set_width(self, width):\n",
    "        if width > 0:\n",
    "            self._width = width\n",
    "        else:\n",
    "            print(\"Width must be greater than 0.\")\n",
    "\n",
    "\n",
    "rect = Rectangle(5, 10)\n",
    "\n",
    "\n",
    "print(\"Width:\", rect.get_width())  \n",
    "rect.set_width(8)\n",
    "\n",
    "\n",
    "print(\"Width:\", rect.get_width())  \n",
    "rect.set_width(-3)\n",
    "\n"
   ]
  },
  {
   "cell_type": "code",
   "execution_count": null,
   "id": "efb291b4",
   "metadata": {},
   "outputs": [],
   "source": []
  },
  {
   "cell_type": "markdown",
   "id": "4fd49d32",
   "metadata": {},
   "source": [
    "Q5.What is method overriding in python? Write a python code to demonstrate method overriding."
   ]
  },
  {
   "cell_type": "markdown",
   "id": "15702755",
   "metadata": {},
   "source": [
    "Method overriding is a feature in object-oriented programming where a subclass provides a specific implementation of a method that is already defined in its parent class. This allows the subclass to provide its own behavior for the method, effectively replacing the implementation inherited from the parent class"
   ]
  },
  {
   "cell_type": "code",
   "execution_count": 8,
   "id": "4dd960e8",
   "metadata": {},
   "outputs": [
    {
     "name": "stdout",
     "output_type": "stream",
     "text": [
      "Animal speaks generic sounds.\n",
      "Dog barks.\n",
      "Cat meows.\n"
     ]
    }
   ],
   "source": [
    "class Animal:\n",
    "    def speak(self):\n",
    "        return \"Animal speaks generic sounds.\"\n",
    "\n",
    "class Dog(Animal):\n",
    "    def speak(self):\n",
    "        return \"Dog barks.\"\n",
    "\n",
    "class Cat(Animal):\n",
    "    def speak(self):\n",
    "        return \"Cat meows.\"\n",
    "\n",
    "\n",
    "\n",
    "animal = Animal()\n",
    "dog = Dog()\n",
    "cat = Cat()\n",
    "\n",
    "\n",
    "print(animal.speak()) \n",
    "print(dog.speak())    \n",
    "print(cat.speak())   \n"
   ]
  },
  {
   "cell_type": "code",
   "execution_count": null,
   "id": "b5d141ae",
   "metadata": {},
   "outputs": [],
   "source": []
  }
 ],
 "metadata": {
  "kernelspec": {
   "display_name": "Python 3 (ipykernel)",
   "language": "python",
   "name": "python3"
  },
  "language_info": {
   "codemirror_mode": {
    "name": "ipython",
    "version": 3
   },
   "file_extension": ".py",
   "mimetype": "text/x-python",
   "name": "python",
   "nbconvert_exporter": "python",
   "pygments_lexer": "ipython3",
   "version": "3.11.3"
  }
 },
 "nbformat": 4,
 "nbformat_minor": 5
}
